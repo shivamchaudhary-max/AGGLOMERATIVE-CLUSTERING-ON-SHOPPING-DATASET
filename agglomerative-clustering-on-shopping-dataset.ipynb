{
 "cells": [
  {
   "cell_type": "code",
   "execution_count": 1,
   "id": "c771180c",
   "metadata": {
    "execution": {
     "iopub.execute_input": "2022-01-19T15:22:12.558384Z",
     "iopub.status.busy": "2022-01-19T15:22:12.556929Z",
     "iopub.status.idle": "2022-01-19T15:22:13.837625Z",
     "shell.execute_reply": "2022-01-19T15:22:13.836904Z",
     "shell.execute_reply.started": "2022-01-19T15:17:24.196761Z"
    },
    "papermill": {
     "duration": 1.301224,
     "end_time": "2022-01-19T15:22:13.837820",
     "exception": false,
     "start_time": "2022-01-19T15:22:12.536596",
     "status": "completed"
    },
    "tags": []
   },
   "outputs": [],
   "source": [
    "import pandas as pd\n",
    "import numpy as np\n",
    "from sklearn.cluster import KMeans\n",
    "import matplotlib.pyplot as plt\n",
    "\n"
   ]
  },
  {
   "cell_type": "code",
   "execution_count": 2,
   "id": "bced12d9",
   "metadata": {
    "execution": {
     "iopub.execute_input": "2022-01-19T15:22:13.864747Z",
     "iopub.status.busy": "2022-01-19T15:22:13.864100Z",
     "iopub.status.idle": "2022-01-19T15:22:13.885267Z",
     "shell.execute_reply": "2022-01-19T15:22:13.885829Z",
     "shell.execute_reply.started": "2022-01-19T15:18:33.857338Z"
    },
    "papermill": {
     "duration": 0.036301,
     "end_time": "2022-01-19T15:22:13.886015",
     "exception": false,
     "start_time": "2022-01-19T15:22:13.849714",
     "status": "completed"
    },
    "tags": []
   },
   "outputs": [],
   "source": [
    "data=pd.read_csv('../input/shopping-dataset/shopping_data.csv')"
   ]
  },
  {
   "cell_type": "code",
   "execution_count": 3,
   "id": "25dde41a",
   "metadata": {
    "execution": {
     "iopub.execute_input": "2022-01-19T15:22:13.913292Z",
     "iopub.status.busy": "2022-01-19T15:22:13.912568Z",
     "iopub.status.idle": "2022-01-19T15:22:13.925690Z",
     "shell.execute_reply": "2022-01-19T15:22:13.926289Z",
     "shell.execute_reply.started": "2022-01-19T15:18:45.311481Z"
    },
    "papermill": {
     "duration": 0.028611,
     "end_time": "2022-01-19T15:22:13.926461",
     "exception": false,
     "start_time": "2022-01-19T15:22:13.897850",
     "status": "completed"
    },
    "tags": []
   },
   "outputs": [
    {
     "data": {
      "text/plain": [
       "CustomerID                0\n",
       "Genre                     0\n",
       "Age                       0\n",
       "Annual Income (k$)        0\n",
       "Spending Score (1-100)    0\n",
       "dtype: int64"
      ]
     },
     "execution_count": 3,
     "metadata": {},
     "output_type": "execute_result"
    }
   ],
   "source": [
    "data.isnull().sum()"
   ]
  },
  {
   "cell_type": "code",
   "execution_count": 4,
   "id": "a1a11c65",
   "metadata": {
    "execution": {
     "iopub.execute_input": "2022-01-19T15:22:13.953841Z",
     "iopub.status.busy": "2022-01-19T15:22:13.953155Z",
     "iopub.status.idle": "2022-01-19T15:22:13.964219Z",
     "shell.execute_reply": "2022-01-19T15:22:13.964762Z",
     "shell.execute_reply.started": "2022-01-19T15:19:06.434603Z"
    },
    "papermill": {
     "duration": 0.026216,
     "end_time": "2022-01-19T15:22:13.964951",
     "exception": false,
     "start_time": "2022-01-19T15:22:13.938735",
     "status": "completed"
    },
    "tags": []
   },
   "outputs": [
    {
     "data": {
      "text/plain": [
       "array([[  1],\n",
       "       [  2],\n",
       "       [  3],\n",
       "       [  4],\n",
       "       [  5],\n",
       "       [  6],\n",
       "       [  7],\n",
       "       [  8],\n",
       "       [  9],\n",
       "       [ 10],\n",
       "       [ 11],\n",
       "       [ 12],\n",
       "       [ 13],\n",
       "       [ 14],\n",
       "       [ 15],\n",
       "       [ 16],\n",
       "       [ 17],\n",
       "       [ 18],\n",
       "       [ 19],\n",
       "       [ 20],\n",
       "       [ 21],\n",
       "       [ 22],\n",
       "       [ 23],\n",
       "       [ 24],\n",
       "       [ 25],\n",
       "       [ 26],\n",
       "       [ 27],\n",
       "       [ 28],\n",
       "       [ 29],\n",
       "       [ 30],\n",
       "       [ 31],\n",
       "       [ 32],\n",
       "       [ 33],\n",
       "       [ 34],\n",
       "       [ 35],\n",
       "       [ 36],\n",
       "       [ 37],\n",
       "       [ 38],\n",
       "       [ 39],\n",
       "       [ 40],\n",
       "       [ 41],\n",
       "       [ 42],\n",
       "       [ 43],\n",
       "       [ 44],\n",
       "       [ 45],\n",
       "       [ 46],\n",
       "       [ 47],\n",
       "       [ 48],\n",
       "       [ 49],\n",
       "       [ 50],\n",
       "       [ 51],\n",
       "       [ 52],\n",
       "       [ 53],\n",
       "       [ 54],\n",
       "       [ 55],\n",
       "       [ 56],\n",
       "       [ 57],\n",
       "       [ 58],\n",
       "       [ 59],\n",
       "       [ 60],\n",
       "       [ 61],\n",
       "       [ 62],\n",
       "       [ 63],\n",
       "       [ 64],\n",
       "       [ 65],\n",
       "       [ 66],\n",
       "       [ 67],\n",
       "       [ 68],\n",
       "       [ 69],\n",
       "       [ 70],\n",
       "       [ 71],\n",
       "       [ 72],\n",
       "       [ 73],\n",
       "       [ 74],\n",
       "       [ 75],\n",
       "       [ 76],\n",
       "       [ 77],\n",
       "       [ 78],\n",
       "       [ 79],\n",
       "       [ 80],\n",
       "       [ 81],\n",
       "       [ 82],\n",
       "       [ 83],\n",
       "       [ 84],\n",
       "       [ 85],\n",
       "       [ 86],\n",
       "       [ 87],\n",
       "       [ 88],\n",
       "       [ 89],\n",
       "       [ 90],\n",
       "       [ 91],\n",
       "       [ 92],\n",
       "       [ 93],\n",
       "       [ 94],\n",
       "       [ 95],\n",
       "       [ 96],\n",
       "       [ 97],\n",
       "       [ 98],\n",
       "       [ 99],\n",
       "       [100],\n",
       "       [101],\n",
       "       [102],\n",
       "       [103],\n",
       "       [104],\n",
       "       [105],\n",
       "       [106],\n",
       "       [107],\n",
       "       [108],\n",
       "       [109],\n",
       "       [110],\n",
       "       [111],\n",
       "       [112],\n",
       "       [113],\n",
       "       [114],\n",
       "       [115],\n",
       "       [116],\n",
       "       [117],\n",
       "       [118],\n",
       "       [119],\n",
       "       [120],\n",
       "       [121],\n",
       "       [122],\n",
       "       [123],\n",
       "       [124],\n",
       "       [125],\n",
       "       [126],\n",
       "       [127],\n",
       "       [128],\n",
       "       [129],\n",
       "       [130],\n",
       "       [131],\n",
       "       [132],\n",
       "       [133],\n",
       "       [134],\n",
       "       [135],\n",
       "       [136],\n",
       "       [137],\n",
       "       [138],\n",
       "       [139],\n",
       "       [140],\n",
       "       [141],\n",
       "       [142],\n",
       "       [143],\n",
       "       [144],\n",
       "       [145],\n",
       "       [146],\n",
       "       [147],\n",
       "       [148],\n",
       "       [149],\n",
       "       [150],\n",
       "       [151],\n",
       "       [152],\n",
       "       [153],\n",
       "       [154],\n",
       "       [155],\n",
       "       [156],\n",
       "       [157],\n",
       "       [158],\n",
       "       [159],\n",
       "       [160],\n",
       "       [161],\n",
       "       [162],\n",
       "       [163],\n",
       "       [164],\n",
       "       [165],\n",
       "       [166],\n",
       "       [167],\n",
       "       [168],\n",
       "       [169],\n",
       "       [170],\n",
       "       [171],\n",
       "       [172],\n",
       "       [173],\n",
       "       [174],\n",
       "       [175],\n",
       "       [176],\n",
       "       [177],\n",
       "       [178],\n",
       "       [179],\n",
       "       [180],\n",
       "       [181],\n",
       "       [182],\n",
       "       [183],\n",
       "       [184],\n",
       "       [185],\n",
       "       [186],\n",
       "       [187],\n",
       "       [188],\n",
       "       [189],\n",
       "       [190],\n",
       "       [191],\n",
       "       [192],\n",
       "       [193],\n",
       "       [194],\n",
       "       [195],\n",
       "       [196],\n",
       "       [197],\n",
       "       [198],\n",
       "       [199],\n",
       "       [200]])"
      ]
     },
     "execution_count": 4,
     "metadata": {},
     "output_type": "execute_result"
    }
   ],
   "source": [
    "\n",
    "x = data.iloc[:, [0]].values\n",
    "x\n"
   ]
  },
  {
   "cell_type": "code",
   "execution_count": 5,
   "id": "67ee64a6",
   "metadata": {
    "execution": {
     "iopub.execute_input": "2022-01-19T15:22:13.992968Z",
     "iopub.status.busy": "2022-01-19T15:22:13.992298Z",
     "iopub.status.idle": "2022-01-19T15:22:13.998991Z",
     "shell.execute_reply": "2022-01-19T15:22:13.999629Z",
     "shell.execute_reply.started": "2022-01-19T15:19:20.229465Z"
    },
    "papermill": {
     "duration": 0.022436,
     "end_time": "2022-01-19T15:22:13.999823",
     "exception": false,
     "start_time": "2022-01-19T15:22:13.977387",
     "status": "completed"
    },
    "tags": []
   },
   "outputs": [
    {
     "name": "stdout",
     "output_type": "stream",
     "text": [
      "[[39]\n",
      " [81]\n",
      " [ 6]\n",
      " [77]\n",
      " [40]\n",
      " [76]\n",
      " [ 6]\n",
      " [94]\n",
      " [ 3]\n",
      " [72]\n",
      " [14]\n",
      " [99]\n",
      " [15]\n",
      " [77]\n",
      " [13]\n",
      " [79]\n",
      " [35]\n",
      " [66]\n",
      " [29]\n",
      " [98]\n",
      " [35]\n",
      " [73]\n",
      " [ 5]\n",
      " [73]\n",
      " [14]\n",
      " [82]\n",
      " [32]\n",
      " [61]\n",
      " [31]\n",
      " [87]\n",
      " [ 4]\n",
      " [73]\n",
      " [ 4]\n",
      " [92]\n",
      " [14]\n",
      " [81]\n",
      " [17]\n",
      " [73]\n",
      " [26]\n",
      " [75]\n",
      " [35]\n",
      " [92]\n",
      " [36]\n",
      " [61]\n",
      " [28]\n",
      " [65]\n",
      " [55]\n",
      " [47]\n",
      " [42]\n",
      " [42]\n",
      " [52]\n",
      " [60]\n",
      " [54]\n",
      " [60]\n",
      " [45]\n",
      " [41]\n",
      " [50]\n",
      " [46]\n",
      " [51]\n",
      " [46]\n",
      " [56]\n",
      " [55]\n",
      " [52]\n",
      " [59]\n",
      " [51]\n",
      " [59]\n",
      " [50]\n",
      " [48]\n",
      " [59]\n",
      " [47]\n",
      " [55]\n",
      " [42]\n",
      " [49]\n",
      " [56]\n",
      " [47]\n",
      " [54]\n",
      " [53]\n",
      " [48]\n",
      " [52]\n",
      " [42]\n",
      " [51]\n",
      " [55]\n",
      " [41]\n",
      " [44]\n",
      " [57]\n",
      " [46]\n",
      " [58]\n",
      " [55]\n",
      " [60]\n",
      " [46]\n",
      " [55]\n",
      " [41]\n",
      " [49]\n",
      " [40]\n",
      " [42]\n",
      " [52]\n",
      " [47]\n",
      " [50]\n",
      " [42]\n",
      " [49]\n",
      " [41]\n",
      " [48]\n",
      " [59]\n",
      " [55]\n",
      " [56]\n",
      " [42]\n",
      " [50]\n",
      " [46]\n",
      " [43]\n",
      " [48]\n",
      " [52]\n",
      " [54]\n",
      " [42]\n",
      " [46]\n",
      " [48]\n",
      " [50]\n",
      " [43]\n",
      " [59]\n",
      " [43]\n",
      " [57]\n",
      " [56]\n",
      " [40]\n",
      " [58]\n",
      " [91]\n",
      " [29]\n",
      " [77]\n",
      " [35]\n",
      " [95]\n",
      " [11]\n",
      " [75]\n",
      " [ 9]\n",
      " [75]\n",
      " [34]\n",
      " [71]\n",
      " [ 5]\n",
      " [88]\n",
      " [ 7]\n",
      " [73]\n",
      " [10]\n",
      " [72]\n",
      " [ 5]\n",
      " [93]\n",
      " [40]\n",
      " [87]\n",
      " [12]\n",
      " [97]\n",
      " [36]\n",
      " [74]\n",
      " [22]\n",
      " [90]\n",
      " [17]\n",
      " [88]\n",
      " [20]\n",
      " [76]\n",
      " [16]\n",
      " [89]\n",
      " [ 1]\n",
      " [78]\n",
      " [ 1]\n",
      " [73]\n",
      " [35]\n",
      " [83]\n",
      " [ 5]\n",
      " [93]\n",
      " [26]\n",
      " [75]\n",
      " [20]\n",
      " [95]\n",
      " [27]\n",
      " [63]\n",
      " [13]\n",
      " [75]\n",
      " [10]\n",
      " [92]\n",
      " [13]\n",
      " [86]\n",
      " [15]\n",
      " [69]\n",
      " [14]\n",
      " [90]\n",
      " [32]\n",
      " [86]\n",
      " [15]\n",
      " [88]\n",
      " [39]\n",
      " [97]\n",
      " [24]\n",
      " [68]\n",
      " [17]\n",
      " [85]\n",
      " [23]\n",
      " [69]\n",
      " [ 8]\n",
      " [91]\n",
      " [16]\n",
      " [79]\n",
      " [28]\n",
      " [74]\n",
      " [18]\n",
      " [83]]\n"
     ]
    }
   ],
   "source": [
    "sh=data.iloc[:,4:5].values\n",
    "print(sh)"
   ]
  },
  {
   "cell_type": "code",
   "execution_count": 6,
   "id": "8f81f56e",
   "metadata": {
    "execution": {
     "iopub.execute_input": "2022-01-19T15:22:14.030918Z",
     "iopub.status.busy": "2022-01-19T15:22:14.030232Z",
     "iopub.status.idle": "2022-01-19T15:22:18.862222Z",
     "shell.execute_reply": "2022-01-19T15:22:18.861665Z",
     "shell.execute_reply.started": "2022-01-19T15:19:42.164729Z"
    },
    "papermill": {
     "duration": 4.849643,
     "end_time": "2022-01-19T15:22:18.862368",
     "exception": false,
     "start_time": "2022-01-19T15:22:14.012725",
     "status": "completed"
    },
    "tags": []
   },
   "outputs": [
    {
     "data": {
      "image/png": "[encoded data removed]",
      "text/plain": [
       "<Figure size 720x504 with 1 Axes>"
      ]
     },
     "metadata": {
      "needs_background": "light"
     },
     "output_type": "display_data"
    }
   ],
   "source": [
    "#drawing dendogram\n",
    "import scipy.cluster.hierarchy as shc\n",
    "\n",
    "plt.figure(figsize=(10, 7))  \n",
    "plt.title(\"balance\")  \n",
    "dend = shc.dendrogram(shc.linkage(sh, method='ward')) "
   ]
  },
  {
   "cell_type": "code",
   "execution_count": 7,
   "id": "c5f20c23",
   "metadata": {
    "execution": {
     "iopub.execute_input": "2022-01-19T15:22:18.899241Z",
     "iopub.status.busy": "2022-01-19T15:22:18.898549Z",
     "iopub.status.idle": "2022-01-19T15:22:18.902605Z",
     "shell.execute_reply": "2022-01-19T15:22:18.901701Z",
     "shell.execute_reply.started": "2022-01-19T15:20:01.713674Z"
    },
    "papermill": {
     "duration": 0.026763,
     "end_time": "2022-01-19T15:22:18.902826",
     "exception": false,
     "start_time": "2022-01-19T15:22:18.876063",
     "status": "completed"
    },
    "tags": []
   },
   "outputs": [
    {
     "name": "stdout",
     "output_type": "stream",
     "text": [
      "[1 1 3 1 1 1 3 1 3 1 3 1 3 1 3 1 0 1 0 1 0 1 3 1 3 1 0 1 0 1 3 1 3 1 3 1 3\n",
      " 1 0 1 0 1 0 1 0 1 1 1 1 1 1 1 1 1 1 1 1 1 1 1 1 1 1 1 1 1 1 1 1 1 1 1 1 1\n",
      " 1 1 1 1 1 1 1 1 1 1 1 1 1 1 1 1 1 1 1 1 1 1 1 1 1 1 1 1 1 1 1 1 1 1 1 1 1\n",
      " 1 1 1 1 1 1 1 1 1 1 1 1 1 0 1 0 1 3 1 3 1 0 1 3 1 3 1 3 1 3 1 1 1 3 1 0 1\n",
      " 0 1 3 1 4 1 3 1 2 1 2 1 0 1 3 1 0 1 4 1 0 1 3 1 3 1 3 1 3 1 3 1 0 1 3 1 1\n",
      " 1 0 1 3 1 0 1 3 1 3 1 0 1 3 1]\n"
     ]
    }
   ],
   "source": [
    "#clustering\n",
    "from sklearn.cluster import AgglomerativeClustering\n",
    "\n",
    "cluster = AgglomerativeClustering(n_clusters=5, affinity='euclidean', linkage='single')  \n",
    "d=cluster.fit_predict(sh) \n",
    "print(d) \n",
    "\n"
   ]
  },
  {
   "cell_type": "code",
   "execution_count": 8,
   "id": "a4ead763",
   "metadata": {
    "execution": {
     "iopub.execute_input": "2022-01-19T15:22:18.952409Z",
     "iopub.status.busy": "2022-01-19T15:22:18.950325Z",
     "iopub.status.idle": "2022-01-19T15:22:19.154042Z",
     "shell.execute_reply": "2022-01-19T15:22:19.153331Z",
     "shell.execute_reply.started": "2022-01-19T15:20:23.414076Z"
    },
    "papermill": {
     "duration": 0.236125,
     "end_time": "2022-01-19T15:22:19.154183",
     "exception": false,
     "start_time": "2022-01-19T15:22:18.918058",
     "status": "completed"
    },
    "tags": []
   },
   "outputs": [
    {
     "data": {
      "text/plain": [
       "<matplotlib.collections.PathCollection at 0x7f5c18ba0a10>"
      ]
     },
     "execution_count": 8,
     "metadata": {},
     "output_type": "execute_result"
    },
    {
     "data": {
      "image/png": "[encoded data removed]",
      "text/plain": [
       "<Figure size 720x504 with 1 Axes>"
      ]
     },
     "metadata": {
      "needs_background": "light"
     },
     "output_type": "display_data"
    }
   ],
   "source": [
    "#Plotting \n",
    "plt.figure(figsize=(10, 7))  \n",
    "plt.scatter(sh[:,0],sh[:,0], c=cluster.labels_, cmap='rainbow')"
   ]
  },
  {
   "cell_type": "code",
   "execution_count": 9,
   "id": "b5b6f2bf",
   "metadata": {
    "execution": {
     "iopub.execute_input": "2022-01-19T15:22:19.191036Z",
     "iopub.status.busy": "2022-01-19T15:22:19.190270Z",
     "iopub.status.idle": "2022-01-19T15:22:19.199593Z",
     "shell.execute_reply": "2022-01-19T15:22:19.198533Z",
     "shell.execute_reply.started": "2022-01-19T15:20:40.353962Z"
    },
    "papermill": {
     "duration": 0.030406,
     "end_time": "2022-01-19T15:22:19.199852",
     "exception": false,
     "start_time": "2022-01-19T15:22:19.169446",
     "status": "completed"
    },
    "tags": []
   },
   "outputs": [
    {
     "name": "stdout",
     "output_type": "stream",
     "text": [
      "For n_clusters = 5 The average silhouette_score is : 0.23225347939649155\n"
     ]
    }
   ],
   "source": [
    "from sklearn.metrics import silhouette_score\n",
    "silhouette_avg = silhouette_score(sh,d)\n",
    "print(\"For n_clusters =\", 5,\n",
    "          \"The average silhouette_score is :\", silhouette_avg)"
   ]
  },
  {
   "cell_type": "code",
   "execution_count": 10,
   "id": "575734d3",
   "metadata": {
    "execution": {
     "iopub.execute_input": "2022-01-19T15:22:19.238645Z",
     "iopub.status.busy": "2022-01-19T15:22:19.235374Z",
     "iopub.status.idle": "2022-01-19T15:22:19.243322Z",
     "shell.execute_reply": "2022-01-19T15:22:19.244067Z",
     "shell.execute_reply.started": "2022-01-19T15:20:53.727625Z"
    },
    "papermill": {
     "duration": 0.027635,
     "end_time": "2022-01-19T15:22:19.244299",
     "exception": false,
     "start_time": "2022-01-19T15:22:19.216664",
     "status": "completed"
    },
    "tags": []
   },
   "outputs": [
    {
     "name": "stdout",
     "output_type": "stream",
     "text": [
      "[2 0 1 0 2 0 1 0 1 0 1 0 1 0 1 0 1 0 1 0 1 0 1 0 1 0 1 2 1 0 1 0 1 0 1 0 1\n",
      " 0 1 0 1 0 1 2 1 0 2 2 2 2 2 2 2 2 2 2 2 2 2 2 2 2 2 2 2 2 2 2 2 2 2 2 2 2\n",
      " 2 2 2 2 2 2 2 2 2 2 2 2 2 2 2 2 2 2 2 2 2 2 2 2 2 2 2 2 2 2 2 2 2 2 2 2 2\n",
      " 2 2 2 2 2 2 2 2 2 2 2 2 0 1 0 1 0 1 0 1 0 1 0 1 0 1 0 1 0 1 0 2 0 1 0 1 0\n",
      " 1 0 1 0 1 0 1 0 1 0 1 0 1 0 1 0 1 0 1 0 1 0 1 0 1 0 1 0 1 0 1 0 1 0 1 0 2\n",
      " 0 1 0 1 0 1 0 1 0 1 0 1 0 1 0]\n"
     ]
    }
   ],
   "source": [
    "#clustering\n",
    "from sklearn.cluster import AgglomerativeClustering\n",
    "\n",
    "cluster = AgglomerativeClustering(n_clusters=3, affinity='euclidean', linkage='complete')  \n",
    "d=cluster.fit_predict(sh) \n",
    "print(d) \n",
    "\n"
   ]
  },
  {
   "cell_type": "code",
   "execution_count": 11,
   "id": "45c00299",
   "metadata": {
    "execution": {
     "iopub.execute_input": "2022-01-19T15:22:19.280511Z",
     "iopub.status.busy": "2022-01-19T15:22:19.279809Z",
     "iopub.status.idle": "2022-01-19T15:22:19.494822Z",
     "shell.execute_reply": "2022-01-19T15:22:19.495338Z",
     "shell.execute_reply.started": "2022-01-19T15:21:13.039452Z"
    },
    "papermill": {
     "duration": 0.234142,
     "end_time": "2022-01-19T15:22:19.495505",
     "exception": false,
     "start_time": "2022-01-19T15:22:19.261363",
     "status": "completed"
    },
    "tags": []
   },
   "outputs": [
    {
     "data": {
      "text/plain": [
       "<matplotlib.collections.PathCollection at 0x7f5c18b2c710>"
      ]
     },
     "execution_count": 11,
     "metadata": {},
     "output_type": "execute_result"
    },
    {
     "data": {
      "image/png": "[encoded data removed]",
      "text/plain": [
       "<Figure size 720x504 with 1 Axes>"
      ]
     },
     "metadata": {
      "needs_background": "light"
     },
     "output_type": "display_data"
    }
   ],
   "source": [
    "#Plotting \n",
    "plt.figure(figsize=(10, 7))  \n",
    "plt.scatter(sh[:,0],sh[:,0], c=cluster.labels_, cmap='rainbow')"
   ]
  },
  {
   "cell_type": "code",
   "execution_count": 12,
   "id": "60a24ba9",
   "metadata": {
    "execution": {
     "iopub.execute_input": "2022-01-19T15:22:19.537439Z",
     "iopub.status.busy": "2022-01-19T15:22:19.536727Z",
     "iopub.status.idle": "2022-01-19T15:22:19.542549Z",
     "shell.execute_reply": "2022-01-19T15:22:19.543104Z",
     "shell.execute_reply.started": "2022-01-19T15:21:32.573563Z"
    },
    "papermill": {
     "duration": 0.029719,
     "end_time": "2022-01-19T15:22:19.543287",
     "exception": false,
     "start_time": "2022-01-19T15:22:19.513568",
     "status": "completed"
    },
    "tags": []
   },
   "outputs": [
    {
     "name": "stdout",
     "output_type": "stream",
     "text": [
      "For n_clusters = 3 The average silhouette_score is : 0.624672502353131\n"
     ]
    }
   ],
   "source": [
    "from sklearn.metrics import silhouette_score\n",
    "silhouette_avg = silhouette_score(sh,d)\n",
    "print(\"For n_clusters =\", 3,\n",
    "          \"The average silhouette_score is :\", silhouette_avg)"
   ]
  },
  {
   "cell_type": "code",
   "execution_count": null,
   "id": "d77f648d",
   "metadata": {
    "papermill": {
     "duration": 0.016974,
     "end_time": "2022-01-19T15:22:19.577687",
     "exception": false,
     "start_time": "2022-01-19T15:22:19.560713",
     "status": "completed"
    },
    "tags": []
   },
   "outputs": [],
   "source": []
  }
 ],
 "metadata": {
  "kernelspec": {
   "display_name": "Python 3",
   "language": "python",
   "name": "python3"
  },
  "language_info": {
   "codemirror_mode": {
    "name": "ipython",
    "version": 3
   },
   "file_extension": ".py",
   "mimetype": "text/x-python",
   "name": "python",
   "nbconvert_exporter": "python",
   "pygments_lexer": "ipython3",
   "version": "3.7.12"
  },
  "papermill": {
   "default_parameters": {},
   "duration": 17.918293,
   "end_time": "2022-01-19T15:22:20.305159",
   "environment_variables": {},
   "exception": null,
   "input_path": "__notebook__.ipynb",
   "output_path": "__notebook__.ipynb",
   "parameters": {},
   "start_time": "2022-01-19T15:22:02.386866",
   "version": "2.3.3"
  }
 },
 "nbformat": 4,
 "nbformat_minor": 5
}
